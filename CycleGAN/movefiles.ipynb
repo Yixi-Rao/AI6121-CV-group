{
 "cells": [
  {
   "cell_type": "code",
   "execution_count": 12,
   "metadata": {},
   "outputs": [],
   "source": [
    "import os\n",
    "from PIL import Image\n",
    "import albumentations as A\n",
    "import numpy as np\n",
    "from torchvision.utils import save_image\n",
    "from albumentations.pytorch import ToTensorV2"
   ]
  },
  {
   "cell_type": "code",
   "execution_count": 13,
   "metadata": {},
   "outputs": [
    {
     "data": {
      "text/plain": [
       "['train', 'val']"
      ]
     },
     "execution_count": 13,
     "metadata": {},
     "output_type": "execute_result"
    }
   ],
   "source": [
    "os.listdir('S:\\OneDrive - Nanyang Technological University\\CODE_2023S1\\AI6121-COMPUTER VISION\\Cityscape\\gtFine')"
   ]
  },
  {
   "cell_type": "code",
   "execution_count": 14,
   "metadata": {},
   "outputs": [],
   "source": [
    "\n",
    "def trans_save(images, path, i):\n",
    "    transforms = A.Compose([A.Resize(width=360, height=180),\n",
    "                            A.Normalize(mean=[0.5, 0.5, 0.5], std=[0.5, 0.5, 0.5], max_pixel_value=255),\n",
    "                            ToTensorV2()])\n",
    "\n",
    "    for image in images:\n",
    "        if 'color' in image:\n",
    "            img = transforms(image=np.array(Image.open(f'{path}/{image}').convert(\"RGB\")))['image']\n",
    "            save_image(img * 0.5 + 0.5, f\"data/train/sources_cityscape/{i}.png\")\n",
    "            i = i + 1\n",
    "\n",
    "    return i\n"
   ]
  },
  {
   "cell_type": "code",
   "execution_count": 15,
   "metadata": {},
   "outputs": [],
   "source": [
    "def dir_img_dir():\n",
    "    base_dir = 'S:/OneDrive - Nanyang Technological University/CODE_2023S1/AI6121-COMPUTER VISION/Cityscape/gtFine'\n",
    "    TestTrainVal_dir = os.listdir(base_dir)\n",
    "    i = 0\n",
    "    for d in TestTrainVal_dir:\n",
    "        loc_dirs = os.listdir(f'{base_dir}/{d}')\n",
    "        for loc_d in loc_dirs:\n",
    "            images = os.listdir(f'{base_dir}/{d}/{loc_d}')\n",
    "            i = trans_save(images, f'{base_dir}/{d}/{loc_d}', i)"
   ]
  },
  {
   "cell_type": "code",
   "execution_count": 16,
   "metadata": {},
   "outputs": [],
   "source": [
    "dir_img_dir()"
   ]
  },
  {
   "cell_type": "code",
   "execution_count": 17,
   "metadata": {},
   "outputs": [],
   "source": [
    "# transforms = A.Compose([A.Resize(width=360, height=180),\n",
    "#                         A.Normalize(mean=[0.5, 0.5, 0.5], std=[0.5, 0.5, 0.5], max_pixel_value=255),\n",
    "#                         ToTensorV2()])\n",
    "\n",
    "# all_files = os.listdir('data/train/sources')[0 : 6000]\n",
    "# for file in all_files:\n",
    "#     image = transforms(image=np.array(Image.open(f'data/train/sources/{file}').convert(\"RGB\")))['image']\n",
    "#     save_image(image * 0.5 + 0.5, f\"data/val/sources/{file}\")\n",
    "    \n",
    "# all_files = os.listdir('data/train/targets')[0 : 6000]\n",
    "# for file in all_files:\n",
    "#     image = transforms(image=np.array(Image.open(f'data/train/targets/{file}').convert(\"RGB\")))['image']\n",
    "#     save_image(image * 0.5 + 0.5, f\"data/val/targets/{file}\")"
   ]
  },
  {
   "cell_type": "code",
   "execution_count": 18,
   "metadata": {},
   "outputs": [
    {
     "data": {
      "text/plain": [
       "'00007'"
      ]
     },
     "execution_count": 18,
     "metadata": {},
     "output_type": "execute_result"
    }
   ],
   "source": [
    "'data/train/sources/00007.png'[-9:-4]"
   ]
  },
  {
   "cell_type": "code",
   "execution_count": 35,
   "metadata": {},
   "outputs": [
    {
     "data": {
      "text/plain": [
       "torch.Size([5, 3, 180, 180])"
      ]
     },
     "execution_count": 35,
     "metadata": {},
     "output_type": "execute_result"
    }
   ],
   "source": [
    "import torch\n",
    "x     = torch.randn((5, 3, 180, 360 * 4))\n",
    "x[:,:,:,180*3:180*4].shape"
   ]
  },
  {
   "cell_type": "code",
   "execution_count": 2,
   "metadata": {},
   "outputs": [
    {
     "data": {
      "text/plain": [
       "-1.0"
      ]
     },
     "execution_count": 2,
     "metadata": {},
     "output_type": "execute_result"
    }
   ],
   "source": [
    "1e-100 - 1"
   ]
  }
 ],
 "metadata": {
  "kernelspec": {
   "display_name": "base",
   "language": "python",
   "name": "python3"
  },
  "language_info": {
   "codemirror_mode": {
    "name": "ipython",
    "version": 3
   },
   "file_extension": ".py",
   "mimetype": "text/x-python",
   "name": "python",
   "nbconvert_exporter": "python",
   "pygments_lexer": "ipython3",
   "version": "3.11.4"
  }
 },
 "nbformat": 4,
 "nbformat_minor": 2
}
